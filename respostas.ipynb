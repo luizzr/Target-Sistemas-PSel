{
 "cells": [
  {
   "attachments": {},
   "cell_type": "markdown",
   "metadata": {},
   "source": [
    "# Respostas Parte 2 - Algoritmos"
   ]
  },
  {
   "attachments": {},
   "cell_type": "markdown",
   "metadata": {},
   "source": [
    "### Questão 01\n",
    "\n",
    "Observe o trecho de código abaixo: \n",
    "\n",
    "```\n",
    "int INDICE = 13, SOMA = 0, K = 0; \n",
    "enquanto K < INDICE faça \n",
    "{ \n",
    "\tK = K + 1; \n",
    "\tSOMA = SOMA + K; \n",
    "} \n",
    "imprimir(SOMA); \n",
    "\n",
    "```\n",
    "\n",
    "Ao final do processamento, qual será o valor da variável SOMA? "
   ]
  },
  {
   "attachments": {},
   "cell_type": "markdown",
   "metadata": {},
   "source": [
    "### Resposta\n",
    "\n",
    "À cada iteração, a variável soma será acrescida com o valor de _k_, sendo que o valor de _k_ varia de 0 à 12 fora do bloco `enquanto` e de 1 à 13 dentro do mesmo bloco.\n",
    "\n",
    "Sendo assim, a variável _soma_ terá o valor de uma soma de progressão aritmética de razão 1:\n",
    "\n",
    "$soma = \\frac{(a_1 + a_n)n}{2}=\\frac{(1+13)13}{2}=\\frac{182}{2}=91$"
   ]
  },
  {
   "attachments": {},
   "cell_type": "markdown",
   "metadata": {},
   "source": [
    "### Questão 02\n",
    "\n",
    "Dado a sequência de Fibonacci, onde se inicia por 0 e 1 e o próximo valor sempre será a soma dos 2 valores anteriores (exemplo: 0, 1, 1, 2, 3, 5, 8, 13, 21, 34...), escreva um programa na linguagem que desejar onde, informado um número, ele calcule a sequência de Fibonacci e retorne uma mensagem avisando se o número informado pertence ou não a sequência. \n",
    "\n",
    "IMPORTANTE: Esse número pode ser informado através de qualquer entrada de sua preferência ou pode ser previamente definido no código; "
   ]
  },
  {
   "attachments": {},
   "cell_type": "markdown",
   "metadata": {},
   "source": [
    "### Resposta"
   ]
  },
  {
   "cell_type": "code",
   "execution_count": 15,
   "metadata": {},
   "outputs": [
    {
     "name": "stdout",
     "output_type": "stream",
     "text": [
      "13 é número da sequência de fibonacci? True\n"
     ]
    }
   ],
   "source": [
    "# Criação de função para verificação:\n",
    "def is_numero_de_fibonacci(n: int):\n",
    "    # Casos básicos:\n",
    "    if n < 0: return False\n",
    "    if n < 2: return True\n",
    "    # Casos em que a sequência > 2 deve ser construída:\n",
    "    fib_anterior, fib_atual = 0, 1\n",
    "    while fib_atual < n:\n",
    "        fib_anterior, fib_atual = fib_atual, fib_atual + fib_anterior\n",
    "    return fib_atual == n  # se fib_atual parar em n, é número de fibonacci, aso contrário não\n",
    "\n",
    "# Leitura do número a ser verificado:\n",
    "n = int(input('Digite um número: '))\n",
    "\n",
    "# Verificação:\n",
    "print(f'{n} é número da sequência de fibonacci? {is_numero_de_fibonacci(n)}')"
   ]
  },
  {
   "attachments": {},
   "cell_type": "markdown",
   "metadata": {},
   "source": [
    "### Questão 03\n",
    "\n",
    "Descubra a lógica e complete o próximo elemento:  \n",
    "\n",
    "### Resposta\n",
    "\n",
    "a) 1, 3, 5, 7, **9, 11, 13, 15** _(ímpares)_\n",
    "\n",
    "b) 2, 4, 8, 16, 32, 64, **128, 256, 512, 1024** _(potências de 2)_\n",
    "\n",
    "c) 0, 1, 4, 9, 16, 25, 36, **49, 64, 81, 100** _(quadrados perfeitos)_\n",
    "\n",
    "d) 4, 16, 36, 64, **100, 144, 196, 256** _(razão anterior + 8)_\n",
    "\n",
    "e) 1, 1, 2, 3, 5, 8, **13, 21, 34, 55** _(fibonacci)_\n",
    "\n",
    "f) 2, 10, 12, 16, 17, 18, 19, **200, 201, 202, 203** _(números começados com 'd')_\n"
   ]
  },
  {
   "attachments": {},
   "cell_type": "markdown",
   "metadata": {},
   "source": [
    "### Questão 04\n",
    "\n",
    "4 - Dois veículos (um carro e um caminhão) saem respectivamente de cidades opostas pela mesma rodovia. O carro de Ribeirão Preto em direção a Franca, a uma velocidade constante de 110 km/h e o caminhão de Franca em direção a Ribeirão Preto a uma velocidade constante de 80 km/h. Quando eles se cruzarem na rodovia, qual estará mais próximo a cidade de Ribeirão Preto?  \n",
    "\n",
    "\n",
    "IMPORTANTE:  \n",
    "\n",
    "a) Considerar a distância de 100km entre a cidade de Ribeirão Preto <-> Franca.  \n",
    "\n",
    "b) Considerar 2 pedágios como obstáculo e que o caminhão leva 5 minutos a mais para passar em cada um deles e o carro possui tag de pedágio (Sem Parar)  \n",
    "\n",
    "c) Explique como chegou no resultado. "
   ]
  },
  {
   "attachments": {},
   "cell_type": "markdown",
   "metadata": {},
   "source": [
    "### Resposta\n",
    "\n",
    "**Ambos estarão à mesma distância da cidade de Ribeirão Preto**.\n",
    "\n",
    "Quando os veículos se cruzarem, certamente o carro terá percorrido uma distância maior que o caminhão, tendo em vista que sua velocidade do carro é 30 _km/h_ maior e que o caminhão possui obstáculos (pedágio manual) que o carro não possui. Entretanto, no exato momento em que os veículos se cruzarem, a distância de ambos à cidade de Ribeirão Preto será a mesma, pois eles estarão localizados no mesmo km da rodovia (mas em sentidos diferentes)."
   ]
  },
  {
   "attachments": {},
   "cell_type": "markdown",
   "metadata": {},
   "source": [
    "### Questão 05\n",
    "\n",
    "Escreva um programa que inverta os caracteres de um string. \n",
    "\n",
    "IMPORTANTE: \n",
    "\n",
    "a) Essa string pode ser informada através de qualquer entrada de sua preferência ou pode ser previamente definida no código;\n",
    "\n",
    "b) Evite usar funções prontas, como, por exemplo, reverse; "
   ]
  },
  {
   "attachments": {},
   "cell_type": "markdown",
   "metadata": {},
   "source": [
    "### Resposta"
   ]
  },
  {
   "cell_type": "code",
   "execution_count": 18,
   "metadata": {},
   "outputs": [
    {
     "name": "stdout",
     "output_type": "stream",
     "text": [
      "Texto invertido: anoicnuf etnemlaer euq ajeV\n"
     ]
    }
   ],
   "source": [
    "# Criação de função para inversão:\n",
    "def inverter_string(s):\n",
    "    invertida = ''\n",
    "    for caractere in s:\n",
    "        invertida = caractere + invertida\n",
    "    return invertida\n",
    "\n",
    "# Leitura da string a ser invertida:\n",
    "s = input('Digite um texto qualquer: ')\n",
    "\n",
    "# Inversão:\n",
    "print(f'Texto invertido: {inverter_string(s)}')"
   ]
  }
 ],
 "metadata": {
  "kernelspec": {
   "display_name": "Python 3",
   "language": "python",
   "name": "python3"
  },
  "language_info": {
   "codemirror_mode": {
    "name": "ipython",
    "version": 3
   },
   "file_extension": ".py",
   "mimetype": "text/x-python",
   "name": "python",
   "nbconvert_exporter": "python",
   "pygments_lexer": "ipython3",
   "version": "3.8.10"
  },
  "orig_nbformat": 4
 },
 "nbformat": 4,
 "nbformat_minor": 2
}
